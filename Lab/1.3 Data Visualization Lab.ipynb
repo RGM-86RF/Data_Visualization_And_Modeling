{
 "cells": [
  {
   "cell_type": "markdown",
   "id": "745729be-5560-4f36-bc6d-7e2d024d70d5",
   "metadata": {},
   "source": [
    "# Lab Instructions\n",
    "\n",
    "You have been hired by a record executive to design a guaranteed smash hit song based on data.  The exec has decided that if you make a song that has all the most popular features of recent songs then it will definitely be a hit.  So if - for example - the most common key in the Spotify data is C# then we would want the song we are designing to also be in C#.  If a \"typical\" value of BPM is between 120 and 130 then we would want the song we are designing to also have a tempo between 120 and 130 BMP.\n",
    "\n",
    "Visualize and describe the distribution of:\n",
    "* BPM\n",
    "* Key\n",
    "* Mode\n",
    "* Danceability\n",
    "* Energy\n",
    "* Speechiness\n",
    "* Acousticness\n",
    "\n",
    "Based on your visualizations and calculations, what values for each of these features would make a song a guaranteed smash hit?  For quantitative features, you should propose a range of values.\n",
    "\n",
    "Use a large language model to help you write code to identify if there are any songs in the Spotify dataset that meet all of the criteria we determined.  What is/are the artist(s) and title(s) of the song?  Were any of these songs actually popular?\n",
    "\n",
    "Pick a song that you know was a smash hit. How do the values of BPM, key, mode, danceability, etc. compare to other songs? \n",
    "\n",
    "**Hint:**  Import the Spotify data using `df = pd.read_csv('spotify-2023.csv', encoding='ISO-8859-1')`."
   ]
  },
  {
   "cell_type": "code",
   "execution_count": 58,
   "id": "841e7228-8179-4d0e-b2fc-98a9d68b7e22",
   "metadata": {
    "tags": []
   },
   "outputs": [
    {
     "data": {
      "text/html": [
       "<div>\n",
       "<style scoped>\n",
       "    .dataframe tbody tr th:only-of-type {\n",
       "        vertical-align: middle;\n",
       "    }\n",
       "\n",
       "    .dataframe tbody tr th {\n",
       "        vertical-align: top;\n",
       "    }\n",
       "\n",
       "    .dataframe thead th {\n",
       "        text-align: right;\n",
       "    }\n",
       "</style>\n",
       "<table border=\"1\" class=\"dataframe\">\n",
       "  <thead>\n",
       "    <tr style=\"text-align: right;\">\n",
       "      <th></th>\n",
       "      <th>track_name</th>\n",
       "      <th>artist(s)_name</th>\n",
       "      <th>artist_count</th>\n",
       "      <th>released_year</th>\n",
       "      <th>released_month</th>\n",
       "      <th>released_day</th>\n",
       "      <th>in_spotify_playlists</th>\n",
       "      <th>in_spotify_charts</th>\n",
       "      <th>streams</th>\n",
       "      <th>in_apple_playlists</th>\n",
       "      <th>...</th>\n",
       "      <th>bpm</th>\n",
       "      <th>key</th>\n",
       "      <th>mode</th>\n",
       "      <th>danceability_%</th>\n",
       "      <th>valence_%</th>\n",
       "      <th>energy_%</th>\n",
       "      <th>acousticness_%</th>\n",
       "      <th>instrumentalness_%</th>\n",
       "      <th>liveness_%</th>\n",
       "      <th>speechiness_%</th>\n",
       "    </tr>\n",
       "  </thead>\n",
       "  <tbody>\n",
       "    <tr>\n",
       "      <th>0</th>\n",
       "      <td>Seven (feat. Latto) (Explicit Ver.)</td>\n",
       "      <td>Latto, Jung Kook</td>\n",
       "      <td>2</td>\n",
       "      <td>2023</td>\n",
       "      <td>7</td>\n",
       "      <td>14</td>\n",
       "      <td>553</td>\n",
       "      <td>147</td>\n",
       "      <td>141381703</td>\n",
       "      <td>43</td>\n",
       "      <td>...</td>\n",
       "      <td>125</td>\n",
       "      <td>B</td>\n",
       "      <td>Major</td>\n",
       "      <td>80</td>\n",
       "      <td>89</td>\n",
       "      <td>83</td>\n",
       "      <td>31</td>\n",
       "      <td>0</td>\n",
       "      <td>8</td>\n",
       "      <td>4</td>\n",
       "    </tr>\n",
       "    <tr>\n",
       "      <th>1</th>\n",
       "      <td>LALA</td>\n",
       "      <td>Myke Towers</td>\n",
       "      <td>1</td>\n",
       "      <td>2023</td>\n",
       "      <td>3</td>\n",
       "      <td>23</td>\n",
       "      <td>1474</td>\n",
       "      <td>48</td>\n",
       "      <td>133716286</td>\n",
       "      <td>48</td>\n",
       "      <td>...</td>\n",
       "      <td>92</td>\n",
       "      <td>C#</td>\n",
       "      <td>Major</td>\n",
       "      <td>71</td>\n",
       "      <td>61</td>\n",
       "      <td>74</td>\n",
       "      <td>7</td>\n",
       "      <td>0</td>\n",
       "      <td>10</td>\n",
       "      <td>4</td>\n",
       "    </tr>\n",
       "    <tr>\n",
       "      <th>2</th>\n",
       "      <td>vampire</td>\n",
       "      <td>Olivia Rodrigo</td>\n",
       "      <td>1</td>\n",
       "      <td>2023</td>\n",
       "      <td>6</td>\n",
       "      <td>30</td>\n",
       "      <td>1397</td>\n",
       "      <td>113</td>\n",
       "      <td>140003974</td>\n",
       "      <td>94</td>\n",
       "      <td>...</td>\n",
       "      <td>138</td>\n",
       "      <td>F</td>\n",
       "      <td>Major</td>\n",
       "      <td>51</td>\n",
       "      <td>32</td>\n",
       "      <td>53</td>\n",
       "      <td>17</td>\n",
       "      <td>0</td>\n",
       "      <td>31</td>\n",
       "      <td>6</td>\n",
       "    </tr>\n",
       "    <tr>\n",
       "      <th>3</th>\n",
       "      <td>Cruel Summer</td>\n",
       "      <td>Taylor Swift</td>\n",
       "      <td>1</td>\n",
       "      <td>2019</td>\n",
       "      <td>8</td>\n",
       "      <td>23</td>\n",
       "      <td>7858</td>\n",
       "      <td>100</td>\n",
       "      <td>800840817</td>\n",
       "      <td>116</td>\n",
       "      <td>...</td>\n",
       "      <td>170</td>\n",
       "      <td>A</td>\n",
       "      <td>Major</td>\n",
       "      <td>55</td>\n",
       "      <td>58</td>\n",
       "      <td>72</td>\n",
       "      <td>11</td>\n",
       "      <td>0</td>\n",
       "      <td>11</td>\n",
       "      <td>15</td>\n",
       "    </tr>\n",
       "    <tr>\n",
       "      <th>4</th>\n",
       "      <td>WHERE SHE GOES</td>\n",
       "      <td>Bad Bunny</td>\n",
       "      <td>1</td>\n",
       "      <td>2023</td>\n",
       "      <td>5</td>\n",
       "      <td>18</td>\n",
       "      <td>3133</td>\n",
       "      <td>50</td>\n",
       "      <td>303236322</td>\n",
       "      <td>84</td>\n",
       "      <td>...</td>\n",
       "      <td>144</td>\n",
       "      <td>A</td>\n",
       "      <td>Minor</td>\n",
       "      <td>65</td>\n",
       "      <td>23</td>\n",
       "      <td>80</td>\n",
       "      <td>14</td>\n",
       "      <td>63</td>\n",
       "      <td>11</td>\n",
       "      <td>6</td>\n",
       "    </tr>\n",
       "  </tbody>\n",
       "</table>\n",
       "<p>5 rows × 24 columns</p>\n",
       "</div>"
      ],
      "text/plain": [
       "                            track_name    artist(s)_name  artist_count  \\\n",
       "0  Seven (feat. Latto) (Explicit Ver.)  Latto, Jung Kook             2   \n",
       "1                                 LALA       Myke Towers             1   \n",
       "2                              vampire    Olivia Rodrigo             1   \n",
       "3                         Cruel Summer      Taylor Swift             1   \n",
       "4                       WHERE SHE GOES         Bad Bunny             1   \n",
       "\n",
       "   released_year  released_month  released_day  in_spotify_playlists  \\\n",
       "0           2023               7            14                   553   \n",
       "1           2023               3            23                  1474   \n",
       "2           2023               6            30                  1397   \n",
       "3           2019               8            23                  7858   \n",
       "4           2023               5            18                  3133   \n",
       "\n",
       "   in_spotify_charts    streams  in_apple_playlists  ...  bpm key   mode  \\\n",
       "0                147  141381703                  43  ...  125   B  Major   \n",
       "1                 48  133716286                  48  ...   92  C#  Major   \n",
       "2                113  140003974                  94  ...  138   F  Major   \n",
       "3                100  800840817                 116  ...  170   A  Major   \n",
       "4                 50  303236322                  84  ...  144   A  Minor   \n",
       "\n",
       "  danceability_%  valence_% energy_% acousticness_%  instrumentalness_%  \\\n",
       "0             80         89       83             31                   0   \n",
       "1             71         61       74              7                   0   \n",
       "2             51         32       53             17                   0   \n",
       "3             55         58       72             11                   0   \n",
       "4             65         23       80             14                  63   \n",
       "\n",
       "   liveness_%  speechiness_%  \n",
       "0           8              4  \n",
       "1          10              4  \n",
       "2          31              6  \n",
       "3          11             15  \n",
       "4          11              6  \n",
       "\n",
       "[5 rows x 24 columns]"
      ]
     },
     "execution_count": 58,
     "metadata": {},
     "output_type": "execute_result"
    }
   ],
   "source": [
    "import pandas as pd\n",
    "\n",
    "df = pd.read_csv('spotify-2023.csv', encoding='ISO-8859-1')\n",
    "\n",
    "df.head()"
   ]
  },
  {
   "cell_type": "code",
   "execution_count": 31,
   "id": "6686f8db-f57b-4c28-912e-367e175fb409",
   "metadata": {},
   "outputs": [
    {
     "data": {
      "text/plain": [
       "count    953.000000\n",
       "mean     122.540399\n",
       "std       28.057802\n",
       "min       65.000000\n",
       "25%      100.000000\n",
       "50%      121.000000\n",
       "75%      140.000000\n",
       "max      206.000000\n",
       "Name: bpm, dtype: float64"
      ]
     },
     "execution_count": 31,
     "metadata": {},
     "output_type": "execute_result"
    },
    {
     "data": {
      "image/png": "[encoded data removed]",
      "text/plain": [
       "<Figure size 640x480 with 1 Axes>"
      ]
     },
     "metadata": {},
     "output_type": "display_data"
    }
   ],
   "source": [
    "df['bpm'].plot(kind='hist')\n",
    "df['bpm'].describe()\n"
   ]
  },
  {
   "cell_type": "code",
   "execution_count": 62,
   "id": "2240bc5f-e22c-4a8f-bb4c-150ba396b11e",
   "metadata": {},
   "outputs": [
    {
     "data": {
      "text/plain": [
       "key\n",
       "C#    120\n",
       "G      96\n",
       "G#     91\n",
       "F      89\n",
       "B      81\n",
       "D      81\n",
       "A      75\n",
       "F#     73\n",
       "E      62\n",
       "A#     57\n",
       "D#     33\n",
       "Name: count, dtype: int64"
      ]
     },
     "execution_count": 62,
     "metadata": {},
     "output_type": "execute_result"
    },
    {
     "data": {
      "image/png": "[encoded data removed]",
      "text/plain": [
       "<Figure size 640x480 with 1 Axes>"
      ]
     },
     "metadata": {},
     "output_type": "display_data"
    }
   ],
   "source": [
    "\n",
    "df['key'].value_counts().plot(kind='bar')\n",
    "df['key'].value_counts()"
   ]
  },
  {
   "cell_type": "code",
   "execution_count": 64,
   "id": "2bd6fc62-c1cb-4144-86f3-919c13d436eb",
   "metadata": {},
   "outputs": [
    {
     "data": {
      "text/plain": [
       "mode\n",
       "Major    550\n",
       "Minor    403\n",
       "Name: count, dtype: int64"
      ]
     },
     "execution_count": 64,
     "metadata": {},
     "output_type": "execute_result"
    },
    {
     "data": {
      "image/png": "[encoded data removed]",
      "text/plain": [
       "<Figure size 640x480 with 1 Axes>"
      ]
     },
     "metadata": {},
     "output_type": "display_data"
    }
   ],
   "source": [
    "df['mode'].value_counts().plot(kind='pie')\n",
    "df['mode'].value_counts()"
   ]
  },
  {
   "cell_type": "code",
   "execution_count": 39,
   "id": "df329cfb-60fe-4659-b935-5c6848f06f26",
   "metadata": {},
   "outputs": [
    {
     "data": {
      "text/plain": [
       "count    953.00000\n",
       "mean      66.96957\n",
       "std       14.63061\n",
       "min       23.00000\n",
       "25%       57.00000\n",
       "50%       69.00000\n",
       "75%       78.00000\n",
       "max       96.00000\n",
       "Name: danceability_%, dtype: float64"
      ]
     },
     "execution_count": 39,
     "metadata": {},
     "output_type": "execute_result"
    },
    {
     "data": {
      "image/png": "[encoded data removed]",
      "text/plain": [
       "<Figure size 640x480 with 1 Axes>"
      ]
     },
     "metadata": {},
     "output_type": "display_data"
    }
   ],
   "source": [
    "df['danceability_'].plot(kind='hist')\n",
    "df['danceability_%'].describe()"
   ]
  },
  {
   "cell_type": "code",
   "execution_count": 41,
   "id": "3fd76097-28ee-4778-960b-0d63894f3cd5",
   "metadata": {},
   "outputs": [
    {
     "data": {
      "text/plain": [
       "count    953.000000\n",
       "mean      64.279119\n",
       "std       16.550526\n",
       "min        9.000000\n",
       "25%       53.000000\n",
       "50%       66.000000\n",
       "75%       77.000000\n",
       "max       97.000000\n",
       "Name: energy_%, dtype: float64"
      ]
     },
     "execution_count": 41,
     "metadata": {},
     "output_type": "execute_result"
    },
    {
     "data": {
      "image/png": "[encoded data removed]",
      "text/plain": [
       "<Figure size 640x480 with 1 Axes>"
      ]
     },
     "metadata": {},
     "output_type": "display_data"
    }
   ],
   "source": [
    "df['energy_%'].plot(kind='hist')\n",
    "df['energy_%'].describe()"
   ]
  },
  {
   "cell_type": "code",
   "execution_count": 42,
   "id": "cca8714b-f43c-4b1b-8988-c6f10f86e674",
   "metadata": {},
   "outputs": [
    {
     "data": {
      "text/plain": [
       "count    953.000000\n",
       "mean      10.131165\n",
       "std        9.912888\n",
       "min        2.000000\n",
       "25%        4.000000\n",
       "50%        6.000000\n",
       "75%       11.000000\n",
       "max       64.000000\n",
       "Name: speechiness_%, dtype: float64"
      ]
     },
     "execution_count": 42,
     "metadata": {},
     "output_type": "execute_result"
    },
    {
     "data": {
      "image/png": "[encoded data removed]",
      "text/plain": [
       "<Figure size 640x480 with 1 Axes>"
      ]
     },
     "metadata": {},
     "output_type": "display_data"
    }
   ],
   "source": [
    "df['speechiness_%'].plot(kind='hist')\n",
    "df['speechiness_%'].describe()"
   ]
  },
  {
   "cell_type": "code",
   "execution_count": 43,
   "id": "4d60d0c6-21b2-4e30-9f6c-add7510d2ed7",
   "metadata": {},
   "outputs": [
    {
     "data": {
      "text/plain": [
       "count    953.000000\n",
       "mean      27.057712\n",
       "std       25.996077\n",
       "min        0.000000\n",
       "25%        6.000000\n",
       "50%       18.000000\n",
       "75%       43.000000\n",
       "max       97.000000\n",
       "Name: acousticness_%, dtype: float64"
      ]
     },
     "execution_count": 43,
     "metadata": {},
     "output_type": "execute_result"
    },
    {
     "data": {
      "image/png": "[encoded data removed]",
      "text/plain": [
       "<Figure size 640x480 with 1 Axes>"
      ]
     },
     "metadata": {},
     "output_type": "display_data"
    }
   ],
   "source": [
    "\n",
    "df['acousticness_%'].plot(kind='hist')\n",
    "df['acousticness_%'].describe()"
   ]
  },
  {
   "cell_type": "code",
   "execution_count": 56,
   "id": "8711e8e8-0881-4d2a-88f9-94e2e653ad9c",
   "metadata": {
    "scrolled": true
   },
   "outputs": [
    {
     "data": {
      "text/html": [
       "<div>\n",
       "<style scoped>\n",
       "    .dataframe tbody tr th:only-of-type {\n",
       "        vertical-align: middle;\n",
       "    }\n",
       "\n",
       "    .dataframe tbody tr th {\n",
       "        vertical-align: top;\n",
       "    }\n",
       "\n",
       "    .dataframe thead th {\n",
       "        text-align: right;\n",
       "    }\n",
       "</style>\n",
       "<table border=\"1\" class=\"dataframe\">\n",
       "  <thead>\n",
       "    <tr style=\"text-align: right;\">\n",
       "      <th></th>\n",
       "      <th>track_name</th>\n",
       "      <th>artist(s)_name</th>\n",
       "      <th>artist_count</th>\n",
       "      <th>released_year</th>\n",
       "      <th>released_month</th>\n",
       "      <th>released_day</th>\n",
       "      <th>in_spotify_playlists</th>\n",
       "      <th>in_spotify_charts</th>\n",
       "      <th>streams</th>\n",
       "      <th>in_apple_playlists</th>\n",
       "      <th>...</th>\n",
       "      <th>bpm</th>\n",
       "      <th>key</th>\n",
       "      <th>mode</th>\n",
       "      <th>danceability_%</th>\n",
       "      <th>valence_%</th>\n",
       "      <th>energy_%</th>\n",
       "      <th>acousticness_%</th>\n",
       "      <th>instrumentalness_%</th>\n",
       "      <th>liveness_%</th>\n",
       "      <th>speechiness_%</th>\n",
       "    </tr>\n",
       "  </thead>\n",
       "  <tbody>\n",
       "    <tr>\n",
       "      <th>518</th>\n",
       "      <td>Need To Know</td>\n",
       "      <td>Doja Cat</td>\n",
       "      <td>1</td>\n",
       "      <td>2021</td>\n",
       "      <td>6</td>\n",
       "      <td>11</td>\n",
       "      <td>6672</td>\n",
       "      <td>0</td>\n",
       "      <td>1042568408</td>\n",
       "      <td>125</td>\n",
       "      <td>...</td>\n",
       "      <td>130</td>\n",
       "      <td>C#</td>\n",
       "      <td>Major</td>\n",
       "      <td>66</td>\n",
       "      <td>19</td>\n",
       "      <td>61</td>\n",
       "      <td>30</td>\n",
       "      <td>0</td>\n",
       "      <td>9</td>\n",
       "      <td>7</td>\n",
       "    </tr>\n",
       "  </tbody>\n",
       "</table>\n",
       "<p>1 rows × 24 columns</p>\n",
       "</div>"
      ],
      "text/plain": [
       "       track_name artist(s)_name  artist_count  released_year  released_month  \\\n",
       "518  Need To Know       Doja Cat             1           2021               6   \n",
       "\n",
       "     released_day  in_spotify_playlists  in_spotify_charts     streams  \\\n",
       "518            11                  6672                  0  1042568408   \n",
       "\n",
       "     in_apple_playlists  ...  bpm key   mode danceability_%  valence_%  \\\n",
       "518                 125  ...  130  C#  Major             66         19   \n",
       "\n",
       "    energy_% acousticness_%  instrumentalness_%  liveness_%  speechiness_%  \n",
       "518       61             30                   0           9              7  \n",
       "\n",
       "[1 rows x 24 columns]"
      ]
     },
     "execution_count": 56,
     "metadata": {},
     "output_type": "execute_result"
    }
   ],
   "source": [
    "\n",
    "filtered_df = df.loc[(df['bpm'] >= 120) & (df['bpm'] <= 140) & (df['danceability_%'] >=60) & (df['danceability_%'] <=80) & (df['mode'] == 'Major')\n",
    "& (df['key'] == 'C#') & (df['energy_%'] >=60) & (df['energy_%'] <=80) & (df['speechiness_%'] >=4) & (df['speechiness_%'] <=12) &\n",
    "(df['acousticness_%'] >=15) & (df['acousticness_%'] <= 45) ]\n",
    "\n",
    "filtered_df.head(10)"
   ]
  },
  {
   "cell_type": "code",
   "execution_count": 57,
   "id": "678ce076-a1fb-4254-bd08-7497efb74559",
   "metadata": {},
   "outputs": [
    {
     "data": {
      "text/html": [
       "<div>\n",
       "<style scoped>\n",
       "    .dataframe tbody tr th:only-of-type {\n",
       "        vertical-align: middle;\n",
       "    }\n",
       "\n",
       "    .dataframe tbody tr th {\n",
       "        vertical-align: top;\n",
       "    }\n",
       "\n",
       "    .dataframe thead th {\n",
       "        text-align: right;\n",
       "    }\n",
       "</style>\n",
       "<table border=\"1\" class=\"dataframe\">\n",
       "  <thead>\n",
       "    <tr style=\"text-align: right;\">\n",
       "      <th></th>\n",
       "      <th>track_name</th>\n",
       "      <th>artist(s)_name</th>\n",
       "      <th>artist_count</th>\n",
       "      <th>released_year</th>\n",
       "      <th>released_month</th>\n",
       "      <th>released_day</th>\n",
       "      <th>in_spotify_playlists</th>\n",
       "      <th>in_spotify_charts</th>\n",
       "      <th>streams</th>\n",
       "      <th>in_apple_playlists</th>\n",
       "      <th>...</th>\n",
       "      <th>bpm</th>\n",
       "      <th>key</th>\n",
       "      <th>mode</th>\n",
       "      <th>danceability_%</th>\n",
       "      <th>valence_%</th>\n",
       "      <th>energy_%</th>\n",
       "      <th>acousticness_%</th>\n",
       "      <th>instrumentalness_%</th>\n",
       "      <th>liveness_%</th>\n",
       "      <th>speechiness_%</th>\n",
       "    </tr>\n",
       "  </thead>\n",
       "  <tbody>\n",
       "    <tr>\n",
       "      <th>55</th>\n",
       "      <td>Blinding Lights</td>\n",
       "      <td>The Weeknd</td>\n",
       "      <td>1</td>\n",
       "      <td>2019</td>\n",
       "      <td>11</td>\n",
       "      <td>29</td>\n",
       "      <td>43899</td>\n",
       "      <td>69</td>\n",
       "      <td>3703895074</td>\n",
       "      <td>672</td>\n",
       "      <td>...</td>\n",
       "      <td>171</td>\n",
       "      <td>C#</td>\n",
       "      <td>Major</td>\n",
       "      <td>50</td>\n",
       "      <td>38</td>\n",
       "      <td>80</td>\n",
       "      <td>0</td>\n",
       "      <td>0</td>\n",
       "      <td>9</td>\n",
       "      <td>7</td>\n",
       "    </tr>\n",
       "  </tbody>\n",
       "</table>\n",
       "<p>1 rows × 24 columns</p>\n",
       "</div>"
      ],
      "text/plain": [
       "         track_name artist(s)_name  artist_count  released_year  \\\n",
       "55  Blinding Lights     The Weeknd             1           2019   \n",
       "\n",
       "    released_month  released_day  in_spotify_playlists  in_spotify_charts  \\\n",
       "55              11            29                 43899                 69   \n",
       "\n",
       "       streams  in_apple_playlists  ...  bpm key   mode danceability_%  \\\n",
       "55  3703895074                 672  ...  171  C#  Major             50   \n",
       "\n",
       "    valence_% energy_% acousticness_%  instrumentalness_%  liveness_%  \\\n",
       "55         38       80              0                   0           9   \n",
       "\n",
       "    speechiness_%  \n",
       "55              7  \n",
       "\n",
       "[1 rows x 24 columns]"
      ]
     },
     "execution_count": 57,
     "metadata": {},
     "output_type": "execute_result"
    }
   ],
   "source": [
    "filtered_df = df.loc[ df['track_name'] == 'Blinding Lights']\n",
    "filtered_df.head()"
   ]
  },
  {
   "cell_type": "markdown",
   "id": "7cbc4ad6-6044-4bb0-9172-586b0454bd16",
   "metadata": {},
   "source": [
    "\n",
    "Part 1:\n",
    "    BPM - Between 100 & 140 percent\n",
    "    Key = C#\n",
    "    Mode = Major\n",
    "    Danceability - Between 60 & 80 percent\n",
    "    Energy - Between 60 and 80 percent\n",
    "    Speechiness - Between 4 & 12 percent\n",
    "    Acousticness - 15 & 45 percent\n",
    "\n",
    "Part 2:\n",
    "    Using the values in the filter above it gave me a single song being \"Need to Know\" from Doja Cat. I believe the song was popular with it reaching bilboards top 10 in the weekly charts and 68 for the global charts in 2021 and 64 for 2022.\n",
    "\n",
    "Part 3: \n",
    "    The song I chose for a smash hit was Blinding Lights by the Weeknd. compared to the values listed in part 1 and the code above it matches the key, mode, energy_%, and speechiness_% but wiht the bpm being higher than what I gave for a range and with the danceability and acousticness being lower than the range I gave.\n",
    "\n",
    "    \n"
   ]
  }
 ],
 "metadata": {
  "kernelspec": {
   "display_name": "Python 3 (ipykernel)",
   "language": "python",
   "name": "python3"
  },
  "language_info": {
   "codemirror_mode": {
    "name": "ipython",
    "version": 3
   },
   "file_extension": ".py",
   "mimetype": "text/x-python",
   "name": "python",
   "nbconvert_exporter": "python",
   "pygments_lexer": "ipython3",
   "version": "3.12.7"
  }
 },
 "nbformat": 4,
 "nbformat_minor": 5
}
